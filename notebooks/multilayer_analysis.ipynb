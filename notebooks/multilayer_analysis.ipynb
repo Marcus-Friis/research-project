{
 "cells": [
  {
   "cell_type": "code",
   "execution_count": 1,
   "metadata": {},
   "outputs": [],
   "source": [
    "import igraph as ig\n",
    "import numpy as np\n",
    "import pandas as pd\n",
    "import matplotlib.pyplot as plt\n",
    "import random\n",
    "\n",
    "import sys\n",
    "sys.path.append('../')\n",
    "from src.graph_utilities import lcc_excluding_no_content"
   ]
  },
  {
   "cell_type": "code",
   "execution_count": 2,
   "metadata": {},
   "outputs": [],
   "source": [
    "# with open('../data/Cit-HepPh.txt', 'r') as f:\n",
    "#     for _ in range(4):\n",
    "#         f.readline()\n",
    "#     edges = []\n",
    "#     while True:\n",
    "#         line = f.readline()\n",
    "#         if not line:\n",
    "#             break\n",
    "#         edges.append(line.split())\n",
    "        \n",
    "# # generate synthetic labels\n",
    "# labels = ('agreement', 'neutral', 'disagreement')\n",
    "# for i in range(len(edges)):\n",
    "#     label = random.choice(labels)\n",
    "#     edges[i].append(label)\n",
    "\n",
    "# # generate synthetic embeddings\n",
    "# nodes = set()\n",
    "# for edge in edges:\n",
    "#     nodes.add(edge[0])\n",
    "#     nodes.add(edge[1])\n",
    "# nodes = list(nodes)\n",
    "\n",
    "# embeddings = {node: np.random.rand(10) for node in nodes}\n",
    "\n",
    "# # convert to graph\n",
    "# g = ig.Graph.TupleList(edges, directed=True, edge_attrs=['label'])\n",
    "# g.vs['embedding'] = [embeddings[node] for node in g.vs['name']]"
   ]
  },
  {
   "cell_type": "code",
   "execution_count": 3,
   "metadata": {},
   "outputs": [],
   "source": [
    "labels = ['agreement', 'neutral', 'disagreement']\n",
    "g = lcc_excluding_no_content()\n",
    "g.vs['embedding'] = np.random.rand(g.vcount(), 10)\n",
    "g.es['label'] = np.random.choice(labels, g.ecount())"
   ]
  },
  {
   "cell_type": "code",
   "execution_count": 4,
   "metadata": {},
   "outputs": [
    {
     "name": "stdout",
     "output_type": "stream",
     "text": [
      "agreement\n",
      "1.2657159983586543\n",
      "neutral\n",
      "1.266620344486227\n",
      "disagreement\n",
      "1.266138573180785\n"
     ]
    }
   ],
   "source": [
    "# compute average distance between nodes of the same label\n",
    "for label in labels:\n",
    "    print(label)\n",
    "    distances = []\n",
    "    es = g.es.select(label_eq=label)\n",
    "    for edge in es:\n",
    "        u = g.vs[edge.source]\n",
    "        v = g.vs[edge.target]\n",
    "        distances.append(np.linalg.norm(u['embedding'] - v['embedding']))\n",
    "    print(np.mean(distances))"
   ]
  },
  {
   "cell_type": "code",
   "execution_count": 5,
   "metadata": {},
   "outputs": [],
   "source": [
    "g.es.select(label_eq='agreement')['color'] = 'green'\n",
    "g.es.select(label_eq='neutral')['color'] = 'gray'\n",
    "g.es.select(label_eq='disagreement')['color'] = 'red'"
   ]
  },
  {
   "cell_type": "code",
   "execution_count": null,
   "metadata": {},
   "outputs": [],
   "source": []
  },
  {
   "cell_type": "markdown",
   "metadata": {},
   "source": [
    "Paper?\n",
    "* https://link.springer.com/article/10.1007/s10618-020-00716-6\n",
    "* https://www.cs.unibo.it/~danilo.montesi/CBD/Articoli/SurveyComunityDectionMultilayerNetwork.pdf"
   ]
  },
  {
   "cell_type": "code",
   "execution_count": null,
   "metadata": {},
   "outputs": [],
   "source": []
  }
 ],
 "metadata": {
  "kernelspec": {
   "display_name": "Python 3 (ipykernel)",
   "language": "python",
   "name": "python3"
  },
  "language_info": {
   "codemirror_mode": {
    "name": "ipython",
    "version": 3
   },
   "file_extension": ".py",
   "mimetype": "text/x-python",
   "name": "python",
   "nbconvert_exporter": "python",
   "pygments_lexer": "ipython3",
   "version": "3.9.7"
  }
 },
 "nbformat": 4,
 "nbformat_minor": 2
}
