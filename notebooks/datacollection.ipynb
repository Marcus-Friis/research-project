{
 "cells": [
  {
   "cell_type": "code",
   "execution_count": 1,
   "metadata": {},
   "outputs": [],
   "source": [
    "import sys\n",
    "sys.path.append('..')\n",
    "\n",
    "import networkx as nx\n",
    "\n",
    "from src.scraper import *"
   ]
  },
  {
   "cell_type": "code",
   "execution_count": 14,
   "metadata": {},
   "outputs": [],
   "source": [
    "G = nx.read_edgelist('../data/Cit-HepPh.txt')"
   ]
  },
  {
   "cell_type": "code",
   "execution_count": 28,
   "metadata": {},
   "outputs": [],
   "source": [
    "arxiv_list = list(G.nodes)\n",
    "arxiv_list = arxiv_list[:5]"
   ]
  },
  {
   "cell_type": "code",
   "execution_count": 29,
   "metadata": {},
   "outputs": [],
   "source": [
    "arx = ArxivScraper(arxiv_list)"
   ]
  },
  {
   "cell_type": "code",
   "execution_count": 30,
   "metadata": {},
   "outputs": [],
   "source": [
    "x = arx.scrape()"
   ]
  },
  {
   "cell_type": "code",
   "execution_count": 32,
   "metadata": {},
   "outputs": [
    {
     "data": {
      "text/plain": [
       "{'9907233': {'metadata': b'<?xml version=\"1.0\" encoding=\"UTF-8\"?>\\n<feed xmlns=\"http://www.w3.org/2005/Atom\">\\n  <link href=\"http://arxiv.org/api/query?search_query%3D%26id_list%3Dhep-ph%2F9907233%26start%3D0%26max_results%3D1\" rel=\"self\" type=\"application/atom+xml\"/>\\n  <title type=\"html\">ArXiv Query: search_query=&amp;id_list=hep-ph/9907233&amp;start=0&amp;max_results=1</title>\\n  <id>http://arxiv.org/api/eM2Q+7hozO7Ok30p39VwuIcz7T8</id>\\n  <updated>2023-09-22T00:00:00-04:00</updated>\\n  <opensearch:totalResults xmlns:opensearch=\"http://a9.com/-/spec/opensearch/1.1/\">1</opensearch:totalResults>\\n  <opensearch:startIndex xmlns:opensearch=\"http://a9.com/-/spec/opensearch/1.1/\">0</opensearch:startIndex>\\n  <opensearch:itemsPerPage xmlns:opensearch=\"http://a9.com/-/spec/opensearch/1.1/\">1</opensearch:itemsPerPage>\\n  <entry>\\n    <id>http://arxiv.org/abs/hep-ph/9907233v3</id>\\n    <updated>2000-02-24T05:29:39Z</updated>\\n    <published>1999-07-05T14:17:06Z</published>\\n    <title>The Radiative Decay of Vector Mesons</title>\\n    <summary>  In this paper, radiative decays $\\\\rho^0 \\\\to \\\\pi^+\\\\pi^-\\\\gamma,\\n\\\\pi^0\\\\pi^0\\\\gamma$ ,$\\\\phi \\\\to K^+K^-\\\\gamma, K^0 \\\\bar{K^0}\\\\gamma$ are studied\\nsystematically in the U(3)$_L\\\\timesU(3)_R$ chiral theory of mesons. The\\ntheoretical differential spectrum with respect to photon energy and branch\\nratio for $\\\\rho^0 \\\\to \\\\pi^+\\\\pi^-\\\\gamma$ agree well with the experimental data.\\nDifferential spectrums and branch ratios for $\\\\rho^0 \\\\to \\\\pi^0\\\\pi^0\\\\gamma, \\\\phi\\n\\\\to K^+ K^-\\\\gamma,\\\\phi \\\\to K^0\\\\bar{K^0}\\\\gamma$ are predicted. The process $\\\\phi\\n\\\\to K^0 \\\\bar{K^0} \\\\gamma$ is relevant to precision measurment of CP-violation\\nparameters in the kaon systerm at a $\\\\phi$-factory. We give a complete estimate\\nof the branch ratio for this decay process by including scalar resonance $f_0,\\na_0$ poles, nonresonant smooth amplitude and an abnormal parity process with\\n$K^*$ pole which hasn\\'t been considered before. We conclude that processes with\\nintermediate $K^*$ do not pose a potential background problem for $\\\\phi\\\\to\\nK^0\\\\bar{K}^0$ CP violation experiments.\\n</summary>\\n    <author>\\n      <name>T. -L. Zhuang</name>\\n    </author>\\n    <author>\\n      <name>X. -J. Wang</name>\\n    </author>\\n    <author>\\n      <name>M. -L. Yan</name>\\n    </author>\\n    <arxiv:doi xmlns:arxiv=\"http://arxiv.org/schemas/atom\">10.1103/PhysRevD.62.053007</arxiv:doi>\\n    <link title=\"doi\" href=\"http://dx.doi.org/10.1103/PhysRevD.62.053007\" rel=\"related\"/>\\n    <arxiv:comment xmlns:arxiv=\"http://arxiv.org/schemas/atom\">Revtex file, 12 pages, 9 eps figures</arxiv:comment>\\n    <arxiv:journal_ref xmlns:arxiv=\"http://arxiv.org/schemas/atom\">Phys.Rev. D62 (2000) 053007</arxiv:journal_ref>\\n    <link href=\"http://arxiv.org/abs/hep-ph/9907233v3\" rel=\"alternate\" type=\"text/html\"/>\\n    <link title=\"pdf\" href=\"http://arxiv.org/pdf/hep-ph/9907233v3\" rel=\"related\" type=\"application/pdf\"/>\\n    <arxiv:primary_category xmlns:arxiv=\"http://arxiv.org/schemas/atom\" term=\"hep-ph\" scheme=\"http://arxiv.org/schemas/atom\"/>\\n    <category term=\"hep-ph\" scheme=\"http://arxiv.org/schemas/atom\"/>\\n  </entry>\\n</feed>\\n',\n",
       "  'body': 'lol'},\n",
       " '9301253': {'metadata': b'<?xml version=\"1.0\" encoding=\"UTF-8\"?>\\n<feed xmlns=\"http://www.w3.org/2005/Atom\">\\n  <link href=\"http://arxiv.org/api/query?search_query%3D%26id_list%3Dhep-ph%2F9301253%26start%3D0%26max_results%3D1\" rel=\"self\" type=\"application/atom+xml\"/>\\n  <title type=\"html\">ArXiv Query: search_query=&amp;id_list=hep-ph/9301253&amp;start=0&amp;max_results=1</title>\\n  <id>http://arxiv.org/api/R7yB+NPIOEKhxh1gLjyqN/+BHEQ</id>\\n  <updated>2023-09-22T00:00:00-04:00</updated>\\n  <opensearch:totalResults xmlns:opensearch=\"http://a9.com/-/spec/opensearch/1.1/\">1</opensearch:totalResults>\\n  <opensearch:startIndex xmlns:opensearch=\"http://a9.com/-/spec/opensearch/1.1/\">0</opensearch:startIndex>\\n  <opensearch:itemsPerPage xmlns:opensearch=\"http://a9.com/-/spec/opensearch/1.1/\">1</opensearch:itemsPerPage>\\n  <entry>\\n    <id>http://arxiv.org/abs/hep-ph/9301253v1</id>\\n    <updated>1993-01-21T11:20:00Z</updated>\\n    <published>1993-01-21T11:20:00Z</published>\\n    <title>Scalar Mesons in $\\xcf\\x86$ Radiative Decay: their implications for\\n  spectroscopy and for studies of CP-violation at $\\xcf\\x86$ factories</title>\\n    <summary>  Existing predictions for the branching ratio for $\\\\phi\\\\rightarrow\\nK\\\\bar{K}\\\\gamma$ {\\\\it via} $\\\\phi\\\\rightarrow S\\\\gamma$ (where $S$ denotes one of\\nthe scalar mesons $f_0$(975) and $a_0$(980)) vary by several orders of\\nmagnitude. Given the importance of these processes for both hadron spectroscopy\\nand CP-violation studies at $\\\\phi$ factories (where $\\\\phi \\\\rightarrow K^0 \\\\bar\\nK^0 \\\\gamma$ poses a possible background problem), this state of affairs is very\\nundesirable. We show that the variety of predictions is due in part to errors\\nand in part to differences in modelling. The latter variation leads us to argue\\nthat the radiative decays of these scalar states are interesting in their own\\nright and may offer unique insights into the nature of the scalar mesons. As a\\nbyproduct we find that the branching ratio for $\\\\phi\\\\rightarrow\\nK^0\\\\bar{K}^0\\\\gamma$ is $\\\\lapproxeq 0(10^{-7})$ and will pose no significant\\nbackground to proposed studies of CP-violation.\\n</summary>\\n    <author>\\n      <name>F. E. Close</name>\\n      <arxiv:affiliation xmlns:arxiv=\"http://arxiv.org/schemas/atom\">Rutherford</arxiv:affiliation>\\n    </author>\\n    <author>\\n      <name>Nathan Isgur</name>\\n      <arxiv:affiliation xmlns:arxiv=\"http://arxiv.org/schemas/atom\">CEBAF</arxiv:affiliation>\\n    </author>\\n    <author>\\n      <name>S. Kumano</name>\\n      <arxiv:affiliation xmlns:arxiv=\"http://arxiv.org/schemas/atom\">Indiana --&gt; Mainz</arxiv:affiliation>\\n    </author>\\n    <arxiv:doi xmlns:arxiv=\"http://arxiv.org/schemas/atom\">10.1016/0550-3213(93)90329-N</arxiv:doi>\\n    <link title=\"doi\" href=\"http://dx.doi.org/10.1016/0550-3213(93)90329-N\" rel=\"related\"/>\\n    <arxiv:comment xmlns:arxiv=\"http://arxiv.org/schemas/atom\">LATEX file (20 pages); Tables 1,2 (LATEX) and Figs.1-6 (TOPDRAWER)\\n  can be obtained from authors upon request; preprint: RAL-92-026,\\n  CEBAF-TH-92-13, IU/NTC-92-16 (Nucl.Phys.B in press)</arxiv:comment>\\n    <arxiv:journal_ref xmlns:arxiv=\"http://arxiv.org/schemas/atom\">Nucl.Phys.B389:513-533,1993</arxiv:journal_ref>\\n    <link href=\"http://arxiv.org/abs/hep-ph/9301253v1\" rel=\"alternate\" type=\"text/html\"/>\\n    <link title=\"pdf\" href=\"http://arxiv.org/pdf/hep-ph/9301253v1\" rel=\"related\" type=\"application/pdf\"/>\\n    <arxiv:primary_category xmlns:arxiv=\"http://arxiv.org/schemas/atom\" term=\"hep-ph\" scheme=\"http://arxiv.org/schemas/atom\"/>\\n    <category term=\"hep-ph\" scheme=\"http://arxiv.org/schemas/atom\"/>\\n    <category term=\"nucl-th\" scheme=\"http://arxiv.org/schemas/atom\"/>\\n  </entry>\\n</feed>\\n',\n",
       "  'body': 'lol'},\n",
       " '9504304': {'metadata': b'<?xml version=\"1.0\" encoding=\"UTF-8\"?>\\n<feed xmlns=\"http://www.w3.org/2005/Atom\">\\n  <link href=\"http://arxiv.org/api/query?search_query%3D%26id_list%3Dhep-ph%2F9504304%26start%3D0%26max_results%3D1\" rel=\"self\" type=\"application/atom+xml\"/>\\n  <title type=\"html\">ArXiv Query: search_query=&amp;id_list=hep-ph/9504304&amp;start=0&amp;max_results=1</title>\\n  <id>http://arxiv.org/api/ICFHzat2JEB99lWultQ6Gx7iKs0</id>\\n  <updated>2023-09-22T00:00:00-04:00</updated>\\n  <opensearch:totalResults xmlns:opensearch=\"http://a9.com/-/spec/opensearch/1.1/\">1</opensearch:totalResults>\\n  <opensearch:startIndex xmlns:opensearch=\"http://a9.com/-/spec/opensearch/1.1/\">0</opensearch:startIndex>\\n  <opensearch:itemsPerPage xmlns:opensearch=\"http://a9.com/-/spec/opensearch/1.1/\">1</opensearch:itemsPerPage>\\n  <entry>\\n    <id>http://arxiv.org/abs/hep-ph/9504304v1</id>\\n    <updated>1995-04-14T14:20:48Z</updated>\\n    <published>1995-04-14T14:20:48Z</published>\\n    <title>U(2)_{L}\\\\times U(2)_{R} Chiral Theory of Mesons</title>\\n    <summary>  A $U(2)_{L}\\\\times U(2)_{R}$ chiral theory of pseudoscalar, vector, and\\naxial-vector mesons has been proposed. VMD has been revealed from this theory.\\nThe physical processes of normal parity and abnormal parity have been studied\\nby using the same lagrangian and the universality of coupling has been\\nrevealed. Two new mass relations between vector and axial-vector mesons have\\nbeen found. Weinberg\\'s first sum rule and new relations about the amplitude of\\n$a_{1}$ decay are satisfied. KSFR sum rule is satisfied pretty well. The $\\\\rho$\\npole in pion form factor has been achieved. The theoretical results of\\n$\\\\rho\\\\rightarrow\\\\pi\\\\pi$, $\\\\omega\\\\rightarrow \\\\pi\\\\pi$, $a_{1}\\\\rightarrow\\\\rho\\\\pi$\\nand $\\\\pi\\\\gamma$, $\\\\tau\\\\rightarrow \\\\rho\\\\nu$, $\\\\tau\\\\rightarrow a_{1}\\\\nu$,\\n$\\\\pi^{0}\\\\rightarrow \\\\gamma\\\\gamma$, $\\\\omega \\\\rightarrow\\\\pi\\\\gamma$,\\n$\\\\rho\\\\rightarrow\\\\pi\\\\gamma$, $f_{1} \\\\rightarrow\\\\rho\\\\pi\\\\pi$,\\n$f_{1}\\\\rightarrow\\\\eta\\\\pi\\\\pi$, $\\\\rho\\\\rightarrow\\\\eta\\\\gamma$, $\\\\omega\\n\\\\rightarrow\\\\eta\\\\gamma$ are in good agreement with data. Weinberg\\'s $\\\\pi\\\\pi$\\nscattering lengths and slopes and $a^{0}_{2}$, $a^{2}_{2}$, and $b^{1}_{1}$\\nhave been obtained. Especially, the $\\\\rho$ resonance in the amplitude\\n$T^{1}_{1}$ of $\\\\pi\\\\pi$ scattering has been revealed from this theory. Two\\ncoefficients of chiral perturbation theory have been determined and they are\\nclose to the values used by chiral perturbation theory.\\n</summary>\\n    <author>\\n      <name>Bing An Li</name>\\n      <arxiv:affiliation xmlns:arxiv=\"http://arxiv.org/schemas/atom\">Dept of Physics and Astronomy, University of Kentucky</arxiv:affiliation>\\n    </author>\\n    <arxiv:doi xmlns:arxiv=\"http://arxiv.org/schemas/atom\">10.1103/PhysRevD.52.5165</arxiv:doi>\\n    <link title=\"doi\" href=\"http://dx.doi.org/10.1103/PhysRevD.52.5165\" rel=\"related\"/>\\n    <arxiv:comment xmlns:arxiv=\"http://arxiv.org/schemas/atom\">55 pages, send e-mail to LI@ukcc.uky.edu to get the figure</arxiv:comment>\\n    <arxiv:journal_ref xmlns:arxiv=\"http://arxiv.org/schemas/atom\">Phys.Rev.D52:5165-5183,1995</arxiv:journal_ref>\\n    <link href=\"http://arxiv.org/abs/hep-ph/9504304v1\" rel=\"alternate\" type=\"text/html\"/>\\n    <link title=\"pdf\" href=\"http://arxiv.org/pdf/hep-ph/9504304v1\" rel=\"related\" type=\"application/pdf\"/>\\n    <arxiv:primary_category xmlns:arxiv=\"http://arxiv.org/schemas/atom\" term=\"hep-ph\" scheme=\"http://arxiv.org/schemas/atom\"/>\\n    <category term=\"hep-ph\" scheme=\"http://arxiv.org/schemas/atom\"/>\\n  </entry>\\n</feed>\\n',\n",
       "  'body': 'lol'},\n",
       " '9505235': {'metadata': b'<?xml version=\"1.0\" encoding=\"UTF-8\"?>\\n<feed xmlns=\"http://www.w3.org/2005/Atom\">\\n  <link href=\"http://arxiv.org/api/query?search_query%3D%26id_list%3Dhep-ph%2F9505235%26start%3D0%26max_results%3D1\" rel=\"self\" type=\"application/atom+xml\"/>\\n  <title type=\"html\">ArXiv Query: search_query=&amp;id_list=hep-ph/9505235&amp;start=0&amp;max_results=1</title>\\n  <id>http://arxiv.org/api/irplnVwbGkqylk34zWSD1QQE9sQ</id>\\n  <updated>2023-09-22T00:00:00-04:00</updated>\\n  <opensearch:totalResults xmlns:opensearch=\"http://a9.com/-/spec/opensearch/1.1/\">1</opensearch:totalResults>\\n  <opensearch:startIndex xmlns:opensearch=\"http://a9.com/-/spec/opensearch/1.1/\">0</opensearch:startIndex>\\n  <opensearch:itemsPerPage xmlns:opensearch=\"http://a9.com/-/spec/opensearch/1.1/\">1</opensearch:itemsPerPage>\\n  <entry>\\n    <id>http://arxiv.org/abs/hep-ph/9505235v1</id>\\n    <updated>1995-05-05T01:24:41Z</updated>\\n    <published>1995-05-05T01:24:41Z</published>\\n    <title>U(3)_{L}\\\\times U(3)_{R} Chiral Theory of Mesons</title>\\n    <summary>  The chiral theory of mesons of two flavors have been extended to mesons\\ncontaining strange flavor. Two new mass relations between vector and\\naxial-vector mesons have been obtained. In chiral limit, the physical processes\\nof normal parity and abnormal parity have been studied. Due to the universality\\nof the coupling of this theory many interesting results have been obtained. In\\nchiral limit theoretical results are in reasonable agreement with data.\\n</summary>\\n    <author>\\n      <name>Bing An Li</name>\\n    </author>\\n    <arxiv:doi xmlns:arxiv=\"http://arxiv.org/schemas/atom\">10.1103/PhysRevD.52.5184</arxiv:doi>\\n    <link title=\"doi\" href=\"http://dx.doi.org/10.1103/PhysRevD.52.5184\" rel=\"related\"/>\\n    <arxiv:comment xmlns:arxiv=\"http://arxiv.org/schemas/atom\">26 pages</arxiv:comment>\\n    <arxiv:journal_ref xmlns:arxiv=\"http://arxiv.org/schemas/atom\">Phys.Rev.D52:5184-5193,1995</arxiv:journal_ref>\\n    <link href=\"http://arxiv.org/abs/hep-ph/9505235v1\" rel=\"alternate\" type=\"text/html\"/>\\n    <link title=\"pdf\" href=\"http://arxiv.org/pdf/hep-ph/9505235v1\" rel=\"related\" type=\"application/pdf\"/>\\n    <arxiv:primary_category xmlns:arxiv=\"http://arxiv.org/schemas/atom\" term=\"hep-ph\" scheme=\"http://arxiv.org/schemas/atom\"/>\\n    <category term=\"hep-ph\" scheme=\"http://arxiv.org/schemas/atom\"/>\\n  </entry>\\n</feed>\\n',\n",
       "  'body': 'lol'},\n",
       " '9506257': {'metadata': b'<?xml version=\"1.0\" encoding=\"UTF-8\"?>\\n<feed xmlns=\"http://www.w3.org/2005/Atom\">\\n  <link href=\"http://arxiv.org/api/query?search_query%3D%26id_list%3Dhep-ph%2F9506257%26start%3D0%26max_results%3D1\" rel=\"self\" type=\"application/atom+xml\"/>\\n  <title type=\"html\">ArXiv Query: search_query=&amp;id_list=hep-ph/9506257&amp;start=0&amp;max_results=1</title>\\n  <id>http://arxiv.org/api/FMJPjNTF5eoqKMcUZ+/rCUAFxzo</id>\\n  <updated>2023-09-22T00:00:00-04:00</updated>\\n  <opensearch:totalResults xmlns:opensearch=\"http://a9.com/-/spec/opensearch/1.1/\">1</opensearch:totalResults>\\n  <opensearch:startIndex xmlns:opensearch=\"http://a9.com/-/spec/opensearch/1.1/\">0</opensearch:startIndex>\\n  <opensearch:itemsPerPage xmlns:opensearch=\"http://a9.com/-/spec/opensearch/1.1/\">1</opensearch:itemsPerPage>\\n  <entry>\\n    <id>http://arxiv.org/abs/hep-ph/9506257v1</id>\\n    <updated>1995-06-07T15:02:44Z</updated>\\n    <published>1995-06-07T15:02:44Z</published>\\n    <title>The decay $\\xcf\\x81^0 \\\\to \\xcf\\x80^+ \\xcf\\x80^- \\xce\\xb3$ and the chiral invariant\\n  interactions of vector mesons</title>\\n    <summary>  Using the close relationship between the low--energy constants of chiral\\nperturbation theory and the chiral invariant interactions of the vector meson\\nresonances with the pseudoscalar mesons, we investigate the process $\\\\rho^0 \\\\ra\\n\\\\pi^+ \\\\pi^- \\\\gamma$. Compared with the contribution from the pure\\nbremsstrahlung mechanism, we find an enhancement of the decay rate near the\\nendpoint of the photon energy spectrum. Such a particular shape of the\\ndifferential decay rate has indeed been observed experimentally and turns out\\nto be an important confirmation of the theoretical concept of chiral vector\\nmeson dominance.\\n</summary>\\n    <author>\\n      <name>K. Huber</name>\\n    </author>\\n    <author>\\n      <name>H. Neufeld</name>\\n    </author>\\n    <arxiv:doi xmlns:arxiv=\"http://arxiv.org/schemas/atom\">10.1016/0370-2693(95)00869-M</arxiv:doi>\\n    <link title=\"doi\" href=\"http://dx.doi.org/10.1016/0370-2693(95)00869-M\" rel=\"related\"/>\\n    <arxiv:comment xmlns:arxiv=\"http://arxiv.org/schemas/atom\">7 pages, latex</arxiv:comment>\\n    <arxiv:journal_ref xmlns:arxiv=\"http://arxiv.org/schemas/atom\">Phys.Lett. B357 (1995) 221-224</arxiv:journal_ref>\\n    <link href=\"http://arxiv.org/abs/hep-ph/9506257v1\" rel=\"alternate\" type=\"text/html\"/>\\n    <link title=\"pdf\" href=\"http://arxiv.org/pdf/hep-ph/9506257v1\" rel=\"related\" type=\"application/pdf\"/>\\n    <arxiv:primary_category xmlns:arxiv=\"http://arxiv.org/schemas/atom\" term=\"hep-ph\" scheme=\"http://arxiv.org/schemas/atom\"/>\\n    <category term=\"hep-ph\" scheme=\"http://arxiv.org/schemas/atom\"/>\\n  </entry>\\n</feed>\\n',\n",
       "  'body': 'lol'}}"
      ]
     },
     "execution_count": 32,
     "metadata": {},
     "output_type": "execute_result"
    }
   ],
   "source": [
    "x"
   ]
  }
 ],
 "metadata": {
  "kernelspec": {
   "display_name": "base",
   "language": "python",
   "name": "python3"
  },
  "language_info": {
   "codemirror_mode": {
    "name": "ipython",
    "version": 3
   },
   "file_extension": ".py",
   "mimetype": "text/x-python",
   "name": "python",
   "nbconvert_exporter": "python",
   "pygments_lexer": "ipython3",
   "version": "3.10.9"
  },
  "orig_nbformat": 4
 },
 "nbformat": 4,
 "nbformat_minor": 2
}
