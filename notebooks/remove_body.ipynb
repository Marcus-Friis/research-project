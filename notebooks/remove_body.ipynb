{
 "cells": [
  {
   "cell_type": "code",
   "execution_count": 2,
   "metadata": {},
   "outputs": [],
   "source": [
    "import os\n",
    "import json\n",
    "working_dir = os.chdir(\"C:/Users/madsh/OneDrive/Skrivebord\")"
   ]
  },
  {
   "cell_type": "code",
   "execution_count": 8,
   "metadata": {},
   "outputs": [],
   "source": [
    "file = \"arxiv2000-3000.json\"\n",
    "with open(file) as f:\n",
    "    json_data = json.load(f)\n",
    "\n",
    "for k in json_data:\n",
    "    if \"body\" in json_data[k]:\n",
    "        del json_data[k][\"body\"]\n",
    "\n",
    "with open(file, 'w') as f:\n",
    "    json.dump(json_data, f)"
   ]
  }
 ],
 "metadata": {
  "kernelspec": {
   "display_name": "base",
   "language": "python",
   "name": "python3"
  },
  "language_info": {
   "codemirror_mode": {
    "name": "ipython",
    "version": 3
   },
   "file_extension": ".py",
   "mimetype": "text/x-python",
   "name": "python",
   "nbconvert_exporter": "python",
   "pygments_lexer": "ipython3",
   "version": "3.11.4"
  }
 },
 "nbformat": 4,
 "nbformat_minor": 2
}
