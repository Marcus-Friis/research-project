{
 "cells": [
  {
   "cell_type": "code",
   "execution_count": 74,
   "metadata": {},
   "outputs": [],
   "source": [
    "import numpy as np\n",
    "import os"
   ]
  },
  {
   "cell_type": "code",
   "execution_count": 106,
   "metadata": {},
   "outputs": [],
   "source": [
    "path = '../data/edges/'\n",
    "files = [file for file in os.listdir(path) if 'edges_' in file]\n",
    "\n",
    "edges = []\n",
    "for file in files:\n",
    "    with open(path + file, 'r') as f:\n",
    "        file_edges = f.readlines()\n",
    "    \n",
    "    file_edges = [edge.strip().split('\\t') for edge in file_edges]\n",
    "    edges += file_edges\n",
    "    "
   ]
  },
  {
   "cell_type": "code",
   "execution_count": 107,
   "metadata": {},
   "outputs": [],
   "source": [
    "edges = np.array(edges)"
   ]
  },
  {
   "cell_type": "code",
   "execution_count": 108,
   "metadata": {},
   "outputs": [],
   "source": [
    "edges_clean = np.char.strip(np.char.lower(edges[:, 2]))"
   ]
  },
  {
   "cell_type": "code",
   "execution_count": 109,
   "metadata": {},
   "outputs": [
    {
     "name": "stdout",
     "output_type": "stream",
     "text": [
      "disagreement 254389\n",
      "agreement 139504\n",
      "neutral 27126\n",
      "the papers are neutral. 155\n",
      "neutrality 100\n",
      "the papers are in agreement. 77\n",
      "the papers agree. 48\n",
      "the papers are neutral 33\n",
      "the papers are in disagreement. 16\n",
      "the paper a agrees with paper b. 16\n",
      "none 11\n",
      "the papers have a disagreement. 10\n",
      "agreeement 9\n",
      "the papers have neutrality towards each other. 7\n",
      "the answer is \"disagreement\". 6\n",
      "the paper a is neutral to the conclusions of paper 4\n",
      "the paper a is neutral. 4\n",
      "agree 4\n",
      "the papers have \"agreement\" as paper a 3\n",
      "neutral. 3\n",
      "the papers have agreement. 3\n",
      "the answer is \"agreement\" 2\n",
      "the abstract of paper a does not provide enough information 2\n",
      "the paper agrees. 2\n",
      "the paper a disagrees with paper b. 2\n",
      "neutrino 2\n",
      "the papers are discussing different topics and do not clearly 2\n",
      "the papers are in \"disagreement\". 2\n",
      "the papers are unrelated. 2\n",
      "the papers have \"agreement\". 2\n",
      "neutrino mixings, mechanism, multiplets 1\n",
      "the abstracts provided do not make a clear connection 1\n",
      "neutrinos 1\n",
      "neu 1\n",
      "the abstract of paper a does not mention anything specifically 1\n",
      "disagreement. 1\n",
      "the abstract of paper a does not provide any information 1\n",
      "alignment 1\n",
      "the abstract of paper a is not provided. please 1\n",
      "the abstracts of paper a and paper b do 1\n",
      "the two papers are not directly related and their conclusions 1\n",
      "the agreement between paper a and paper b is \" 1\n",
      "the papers are neutral. there is no clear agreement 1\n",
      "the relationship between paper a and paper b is unclear 1\n",
      "the papers have little to do with each other. 1\n",
      "the papers have a neutral agreement. 1\n",
      "the papers have \"agreement\" as they both 1\n",
      "the papers disagree. 1\n",
      "the papers are unclear and it is uncertain how they 1\n",
      "the papers are not related. 1\n",
      "the papers are neutral. they discuss different aspects of 1\n",
      "the papers are in \"agreement\" 1\n",
      "the agreement between paper a and paper b is unclear 1\n",
      "the papers are discussing different aspects of cp violation in 1\n",
      "the paper agreement. 1\n",
      "the paper a disagrees with the conclusions of paper b 1\n",
      "the two papers are neutral. 1\n",
      "the paper a agrees. 1\n",
      "the answer is neutrality. 1\n",
      "the agreement. 1\n",
      "the agreement between the papers is unclear. 1\n",
      "aggreement 1\n"
     ]
    }
   ],
   "source": [
    "labels, counts = np.unique(edges_clean, return_counts=True)\n",
    "idx = np.argsort(counts)[::-1]\n",
    "for i in idx:\n",
    "    print(labels[i], counts[i])"
   ]
  },
  {
   "cell_type": "code",
   "execution_count": 115,
   "metadata": {},
   "outputs": [],
   "source": [
    "disagree_mask = np.char.find(edges_clean, 'disagree') != -1\n",
    "neutral_mask = np.char.find(edges_clean, 'neutral') != -1\n",
    "agree_mask = (np.char.find(edges_clean, 'agree') != -1) & (~disagree_mask) & (~neutral_mask)\n",
    "none_mask = np.char.find(edges_clean, 'none') != -1"
   ]
  },
  {
   "cell_type": "code",
   "execution_count": 123,
   "metadata": {},
   "outputs": [],
   "source": [
    "edges_clean[disagree_mask] = 'disagreement'\n",
    "edges_clean[neutral_mask] = 'neutral'\n",
    "edges_clean[agree_mask] = 'agreement'\n",
    "edges_clean[(~disagree_mask) & (~neutral_mask) & (~agree_mask) & (~none_mask)] = 'neutral'"
   ]
  },
  {
   "cell_type": "code",
   "execution_count": 125,
   "metadata": {},
   "outputs": [
    {
     "data": {
      "text/plain": [
       "(array(['agreement', 'disagreement', 'neutral', 'none'], dtype='<U62'),\n",
       " array([139678, 254428,  27461,     11], dtype=int64))"
      ]
     },
     "execution_count": 125,
     "metadata": {},
     "output_type": "execute_result"
    }
   ],
   "source": [
    "np.unique(edges_clean, return_counts=True)"
   ]
  }
 ],
 "metadata": {
  "kernelspec": {
   "display_name": "base",
   "language": "python",
   "name": "python3"
  },
  "language_info": {
   "codemirror_mode": {
    "name": "ipython",
    "version": 3
   },
   "file_extension": ".py",
   "mimetype": "text/x-python",
   "name": "python",
   "nbconvert_exporter": "python",
   "pygments_lexer": "ipython3",
   "version": "3.9.7"
  }
 },
 "nbformat": 4,
 "nbformat_minor": 2
}
