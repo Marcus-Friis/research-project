{
 "cells": [
  {
   "cell_type": "code",
   "execution_count": 1,
   "metadata": {},
   "outputs": [
    {
     "name": "stdout",
     "output_type": "stream",
     "text": [
      "arxiv1000_2000.json has 61528 lines.\n",
      "arxiv18700-19400.json has 105214 lines.\n",
      "arxiv19400_20000.json has 35758 lines.\n",
      "arxiv2000-3000.json has 163798 lines.\n",
      "arxiv20k-25k.json has 236014 lines.\n",
      "arxiv24000_25000.json has 58664 lines.\n",
      "arxiv27500_30000.json has 144191 lines.\n",
      "arxiv3000_4000.json has 61486 lines.\n",
      "arxiv4000_5000.json has 62527 lines.\n",
      "arxiv5000_6000.json has 61875 lines.\n",
      "arxiv6000_7000.json has 61771 lines.\n",
      "arxiv7000_8000.json has 61684 lines.\n",
      "arxiv8000_9000.json has 60608 lines.\n",
      "arxiv9000_10000.json has 59889 lines.\n",
      "arxiv_0_1000.json has 63320 lines.\n",
      "arxiv_10000_12000.json has 121272 lines.\n",
      "arxiv_12000_18000.json has 358571 lines.\n",
      "arxiv_18000_18700.json has 41555 lines.\n",
      "arxiv_25000_27500.json has 145317 lines.\n",
      "arxiv_30000_-1.json has 256871 lines.\n",
      "The combined file combined_data.json has 2139821 lines.\n",
      "The total amount of lines across all files (this should be the same as the number above) is 2221913.\n"
     ]
    }
   ],
   "source": [
    "import os\n",
    "import json\n",
    "\n",
    "directory = \"C:/Users/madsh/OneDrive/Skrivebord/research-project/notebooks\"\n",
    "combined_data = []\n",
    "total_lines = 0\n",
    "\n",
    "# Loop through all entries in the directory\n",
    "for filename in os.listdir(directory):\n",
    "    file_path = os.path.join(directory, filename)\n",
    "    \n",
    "    # Check if the entry is a file and ends with .json\n",
    "    if os.path.isfile(file_path) and filename.endswith(\".json\"):\n",
    "        try:\n",
    "            with open(file_path, \"r\") as file:\n",
    "                data = json.load(file)\n",
    "                \n",
    "                # Count the number of lines in the current file\n",
    "                file.seek(0)  # go back to the start of the file\n",
    "                num_lines = sum(1 for line in file)\n",
    "                print(f\"{filename} has {num_lines} lines.\")\n",
    "                total_lines += num_lines\n",
    "                \n",
    "                # If data is a list, extend combined_data; otherwise, append\n",
    "                if isinstance(data, list):\n",
    "                    combined_data.extend(data)\n",
    "                else:\n",
    "                    combined_data.append(data)\n",
    "        except Exception as e:\n",
    "            print(f\"Error reading {file_path}. Error: {e}\")\n",
    "\n",
    "output_file = \"combined_data.json\"  \n",
    "\n",
    "try:\n",
    "    with open(output_file, \"w\") as file:\n",
    "        json.dump(combined_data, file, indent=4)\n",
    "    \n",
    "    # Count the number of lines in the combined file\n",
    "    with open(output_file, \"r\") as file:\n",
    "        num_lines = sum(1 for line in file)\n",
    "        print(f\"The combined file {output_file} has {num_lines} lines.\")\n",
    "    print(f'The total amount of lines across all files (this should be the same as the number above) is {total_lines}.')\n",
    "except Exception as e:\n",
    "    print(f\"Error writing to {output_file}. Error: {e}\")\n"
   ]
  },
  {
   "cell_type": "code",
   "execution_count": 5,
   "metadata": {},
   "outputs": [
    {
     "name": "stdout",
     "output_type": "stream",
     "text": [
      "The total number of keys processed from individual files is 35880.\n",
      "The number of keys in the combined_data is 34545.\n",
      "Mismatch in the keys count between individual files and the combined data.\n"
     ]
    }
   ],
   "source": [
    "import os\n",
    "import json\n",
    "\n",
    "directory = \"C:/Users/madsh/OneDrive/Skrivebord/research-project/notebooks\"\n",
    "combined_data = {}  # Now a dictionary instead of a list\n",
    "total_keys = 0  # Counter for the total number of keys\n",
    "\n",
    "for filename in os.listdir(directory):\n",
    "    file_path = os.path.join(directory, filename)\n",
    "    \n",
    "    if os.path.isfile(file_path) and filename.endswith(\".json\"):\n",
    "        try:\n",
    "            with open(file_path, \"r\") as file:\n",
    "                data = json.load(file)\n",
    "\n",
    "                if isinstance(data, dict):\n",
    "                    total_keys += len(data.keys())\n",
    "                    combined_data.update(data)  # Merge dictionaries\n",
    "                else:\n",
    "                    print(f\"Warning: {filename} does not contain a JSON object, skipping.\")\n",
    "\n",
    "        except Exception as e:\n",
    "            print(f\"Error reading {file_path}. Error: {e}\")\n",
    "\n",
    "output_file = \"combined_data.json\"  \n",
    "\n",
    "try:\n",
    "    with open(output_file, \"w\") as file:\n",
    "        json.dump(combined_data, file, indent=4)\n",
    "    \n",
    "    combined_keys = len(combined_data.keys())\n",
    "    print(f\"The total number of keys processed from individual files is {total_keys}.\")\n",
    "    print(f\"The number of keys in the combined_data is {combined_keys}.\")\n",
    "    \n",
    "    if total_keys == combined_keys:\n",
    "        print(\"The keys count matches between the individual files and the combined data!\")\n",
    "    else:\n",
    "        print(\"Mismatch in the keys count between individual files and the combined data.\")\n",
    "except Exception as e:\n",
    "    print(f\"Error writing to {output_file}. Error: {e}\")\n"
   ]
  }
 ],
 "metadata": {
  "kernelspec": {
   "display_name": "base",
   "language": "python",
   "name": "python3"
  },
  "language_info": {
   "codemirror_mode": {
    "name": "ipython",
    "version": 3
   },
   "file_extension": ".py",
   "mimetype": "text/x-python",
   "name": "python",
   "nbconvert_exporter": "python",
   "pygments_lexer": "ipython3",
   "version": "3.11.4"
  }
 },
 "nbformat": 4,
 "nbformat_minor": 2
}
