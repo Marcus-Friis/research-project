{
 "cells": [
  {
   "cell_type": "code",
   "execution_count": 2,
   "metadata": {},
   "outputs": [
    {
     "name": "stdout",
     "output_type": "stream",
     "text": [
      "arxiv.json has 63320 lines.\n",
      "arxiv1000_2000.json has 61528 lines.\n",
      "Error reading C:/Users/madsh/OneDrive/Skrivebord/research-project/notebooks\\arxiv2000-3000.json. Error: Expecting ',' delimiter: line 82096 column 1 (char 27615133)\n",
      "arxiv20k-25k.json has 236014 lines.\n",
      "arxiv24000_25000.json has 58664 lines.\n",
      "arxiv27500_30000.json has 144191 lines.\n",
      "arxiv3000_4000.json has 61486 lines.\n",
      "arxiv4000_5000.json has 62527 lines.\n",
      "arxiv5000_6000.json has 61875 lines.\n",
      "arxiv6000_7000.json has 61771 lines.\n",
      "arxiv7000_8000.json has 61684 lines.\n",
      "arxiv8000_9000.json has 60608 lines.\n",
      "arxiv9000_10000.json has 59889 lines.\n",
      "arxiv_0_1000.json has 63320 lines.\n",
      "arxiv_10000_12000.json has 121272 lines.\n",
      "arxiv_12000_18000.json has 358571 lines.\n",
      "arxiv_25000_27500.json has 145317 lines.\n",
      "arxiv_30000_-1.json has 256871 lines.\n",
      "The combined file combined_data.json has 1938910 lines.\n"
     ]
    }
   ],
   "source": [
    "import os\n",
    "import json\n",
    "\n",
    "directory = \"C:/Users/madsh/OneDrive/Skrivebord/research-project/notebooks\"\n",
    "combined_data = []\n",
    "\n",
    "# Loop through all entries in the directory\n",
    "for filename in os.listdir(directory):\n",
    "    file_path = os.path.join(directory, filename)\n",
    "    \n",
    "    # Check if the entry is a file and ends with .json\n",
    "    if os.path.isfile(file_path) and filename.endswith(\".json\"):\n",
    "        try:\n",
    "            with open(file_path, \"r\") as file:\n",
    "                data = json.load(file)\n",
    "                \n",
    "                # Count the number of lines in the current file\n",
    "                file.seek(0)  # go back to the start of the file\n",
    "                num_lines = sum(1 for line in file)\n",
    "                print(f\"{filename} has {num_lines} lines.\")\n",
    "                \n",
    "                # If data is a list, extend combined_data; otherwise, append\n",
    "                if isinstance(data, list):\n",
    "                    combined_data.extend(data)\n",
    "                else:\n",
    "                    combined_data.append(data)\n",
    "        except Exception as e:\n",
    "            print(f\"Error reading {file_path}. Error: {e}\")\n",
    "\n",
    "output_file = \"combined_data.json\"  \n",
    "\n",
    "try:\n",
    "    with open(output_file, \"w\") as file:\n",
    "        json.dump(combined_data, file, indent=4)\n",
    "    \n",
    "    # Count the number of lines in the combined file\n",
    "    with open(output_file, \"r\") as file:\n",
    "        num_lines = sum(1 for line in file)\n",
    "        print(f\"The combined file {output_file} has {num_lines} lines.\")\n",
    "except Exception as e:\n",
    "    print(f\"Error writing to {output_file}. Error: {e}\")\n"
   ]
  }
 ],
 "metadata": {
  "kernelspec": {
   "display_name": "base",
   "language": "python",
   "name": "python3"
  },
  "language_info": {
   "codemirror_mode": {
    "name": "ipython",
    "version": 3
   },
   "file_extension": ".py",
   "mimetype": "text/x-python",
   "name": "python",
   "nbconvert_exporter": "python",
   "pygments_lexer": "ipython3",
   "version": "3.11.4"
  }
 },
 "nbformat": 4,
 "nbformat_minor": 2
}
