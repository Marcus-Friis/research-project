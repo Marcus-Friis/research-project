{
 "cells": [
  {
   "cell_type": "code",
   "execution_count": null,
   "metadata": {},
   "outputs": [],
   "source": [
    "import networkx as nx\n",
    "import igraph as ig\n",
    "import numpy as np\n",
    "import pandas as pd\n",
    "import matplotlib.pyplot as plt\n",
    "import seaborn as sns\n",
    "plt.style.use('ggplot')"
   ]
  },
  {
   "cell_type": "code",
   "execution_count": null,
   "metadata": {},
   "outputs": [],
   "source": [
    "G = nx.read_edgelist('../data/Cit-HepPh.txt', create_using=nx.DiGraph)\n",
    "G_ig = ig.Graph.from_networkx(G)"
   ]
  },
  {
   "cell_type": "markdown",
   "metadata": {},
   "source": [
    "# Graph properties"
   ]
  },
  {
   "cell_type": "code",
   "execution_count": null,
   "metadata": {},
   "outputs": [],
   "source": [
    "print('number of nodes', nx.number_of_nodes(G))\n",
    "print('number of edges', nx.number_of_edges(G))\n",
    "print('number of selfloops', nx.number_of_selfloops(G))\n",
    "print('number of weakly connected components', nx.number_weakly_connected_components(G))\n",
    "print('number of strongly connected components', nx.number_strongly_connected_components(G))\n",
    "print('average clustering coefficient', nx.average_clustering(G))\n",
    "print('number of weak triangles', sum(nx.triangles(G.to_undirected()).values())/3)\n",
    "print('fraction of closed triads', nx.transitivity(G))\n",
    "print('density of graph', nx.density(G))"
   ]
  },
  {
   "cell_type": "markdown",
   "metadata": {},
   "source": [
    "# Degree distribution"
   ]
  },
  {
   "cell_type": "code",
   "execution_count": null,
   "metadata": {},
   "outputs": [],
   "source": [
    "# get list of in- and out-degrees\n",
    "in_degrees = np.array(list(dict(G.in_degree).values()))\n",
    "out_degrees = np.array(list(dict(G.out_degree).values()))\n",
    "\n",
    "# get frequency of each degree and normalize to density\n",
    "d_in, v_in = np.unique(in_degrees, return_counts=True)\n",
    "v_in = v_in / v_in.sum()\n",
    "d_out, v_out = np.unique(out_degrees, return_counts=True)\n",
    "v_out = v_out / v_out.sum()\n",
    "\n",
    "# setup figure for plotting\n",
    "fig, ((ax1, ax2), (ax3, ax4)) = plt.subplots(2, 2, figsize=(10,6))\n",
    "dot_size = 10\n",
    "\n",
    "# plot in-degree\n",
    "ax1.scatter(d_in, v_in, s=dot_size)\n",
    "ax1.set_xlabel('k')\n",
    "ax1.set_ylabel('p(k)')\n",
    "ax1.set_title('in-degree distribution')\n",
    "\n",
    "# plot in-degree log-log\n",
    "ax3.scatter(d_in, v_in, s=dot_size)\n",
    "ax3.set_xlabel('k')\n",
    "ax3.set_ylabel('p(k)')\n",
    "ax3.set_title('in-degree distribution')\n",
    "ax3.set_xscale('log')\n",
    "ax3.set_yscale('log')\n",
    "ax3.set_xlim(0.9, np.max(d_in)*2)\n",
    "\n",
    "# plot out-degree\n",
    "ax2.scatter(d_out, v_out, s=dot_size)\n",
    "ax2.set_xlabel('k')\n",
    "ax2.set_ylabel('p(k)')\n",
    "ax2.set_title('out-degree distribution')\n",
    "\n",
    "# plot out-degree log-log\n",
    "d_out, v_out = np.unique(out_degrees, return_counts=True)\n",
    "v_out = v_out / v_out.sum()\n",
    "ax4.scatter(d_out, v_out, s=dot_size)\n",
    "ax4.set_xlabel('k')\n",
    "ax4.set_ylabel('p(k)')\n",
    "ax4.set_title('out-degree distribution')\n",
    "ax4.set_xscale('log')\n",
    "ax4.set_yscale('log')\n",
    "ax4.set_xlim(0.9, np.max(d_out)*2)\n",
    "\n",
    "plt.tight_layout()"
   ]
  },
  {
   "cell_type": "code",
   "execution_count": null,
   "metadata": {},
   "outputs": [],
   "source": [
    "fig, (ax1, ax2) = plt.subplots(1, 2, figsize=(10,3))\n",
    "\n",
    "# get complementray cumulative sum of degrees\n",
    "v_in_cum = 1 - np.cumsum(v_in)\n",
    "v_out_cum = 1 - np.cumsum(v_out)\n",
    "\n",
    "# plot in-degree CCDF log-log\n",
    "ax1.plot(d_in, v_in_cum)\n",
    "ax1.set_title('in-degree CCDF')\n",
    "ax1.set_xlabel('k')\n",
    "ax1.set_ylabel('p(k$\\geq$x)')\n",
    "ax1.set_xscale('log')\n",
    "ax1.set_yscale('log')\n",
    "\n",
    "# plot out-degree CCDF log-log\n",
    "ax2.plot(d_out, v_out_cum)\n",
    "ax2.set_title('out-degree CCDF')\n",
    "ax2.set_xlabel('k')\n",
    "ax2.set_ylabel('p(k$\\geq$x)')\n",
    "ax2.set_xscale('log')\n",
    "ax2.set_yscale('log')\n",
    "\n",
    "plt.tight_layout()"
   ]
  },
  {
   "cell_type": "code",
   "execution_count": null,
   "metadata": {},
   "outputs": [],
   "source": [
    "fig, ax = plt.subplots()\n",
    "ax.scatter(in_degrees, out_degrees, s=dot_size)\n",
    "ax.set_title('in- and out-degree relationship')\n",
    "ax.set_xlabel('in-degree')\n",
    "ax.set_ylabel('out-degree')"
   ]
  },
  {
   "cell_type": "code",
   "execution_count": null,
   "metadata": {},
   "outputs": [],
   "source": [
    "# degree assortativity"
   ]
  },
  {
   "cell_type": "markdown",
   "metadata": {},
   "source": [
    "# Relevant distributions\n",
    "Do these for largest component"
   ]
  },
  {
   "cell_type": "code",
   "execution_count": null,
   "metadata": {},
   "outputs": [],
   "source": [
    "# clustering coefficient\n",
    "clustering = nx.clustering(G.to_undirected())\n",
    "\n",
    "fig, ax = plt.subplots()\n",
    "sns.histplot(list(clustering.values()), stat='probability', ax=ax)\n",
    "ax.set_title('Clustering Coefficient Distribution')\n",
    "ax.set_xlabel('Clustering Coefficient')\n",
    "ax.set_ylabel('Frequency')"
   ]
  },
  {
   "cell_type": "code",
   "execution_count": null,
   "metadata": {},
   "outputs": [],
   "source": [
    "# betweenness centrality\n",
    "betweenness = G_ig.components().giant().betweenness()\n",
    "betweenness = np.array(betweenness) / (G_ig.vcount() * (G_ig.vcount() - 1))\n",
    "\n",
    "fig, ax = plt.subplots()\n",
    "sns.histplot(betweenness, stat='probability', ax=ax, bins=10)\n",
    "ax.set_title('Betweeness Centrality Distribution')\n",
    "ax.set_xlabel('Betweeness Centrality')\n",
    "ax.set_ylabel('Frequency')\n",
    "ax.set_yscale('log')\n",
    "\n",
    "print('average betweenness centrality', np.mean(betweenness))"
   ]
  },
  {
   "cell_type": "code",
   "execution_count": null,
   "metadata": {},
   "outputs": [],
   "source": [
    "# closeness centrality\n",
    "closeness = G_ig.closeness()\n",
    "\n",
    "fig, ax = plt.subplots()\n",
    "sns.histplot(closeness, stat='probability', ax=ax)\n",
    "ax.set_title('Closeness Centrality Distribution')\n",
    "ax.set_xlabel('Closeness Centrality')\n",
    "ax.set_ylabel('Frequency')\n",
    "\n",
    "print('average closeness centrality', np.mean(closeness))"
   ]
  },
  {
   "cell_type": "code",
   "execution_count": null,
   "metadata": {},
   "outputs": [],
   "source": [
    "# pagerank\n",
    "pagerank = G_ig.pagerank()\n",
    "\n",
    "fig, ax = plt.subplots()\n",
    "sns.histplot(pagerank, stat='probability', ax=ax)\n",
    "ax.set_title('Pagerank Distribution')\n",
    "ax.set_xlabel('Pagerank')\n",
    "ax.set_ylabel('Frequency')\n",
    "\n",
    "print('average pagerank', np.mean(pagerank))"
   ]
  },
  {
   "cell_type": "markdown",
   "metadata": {},
   "source": [
    "# Cliques"
   ]
  },
  {
   "cell_type": "code",
   "execution_count": null,
   "metadata": {},
   "outputs": [],
   "source": []
  },
  {
   "cell_type": "markdown",
   "metadata": {},
   "source": [
    "# Community detection\n",
    "NOTE: Read up on modularity"
   ]
  },
  {
   "cell_type": "code",
   "execution_count": null,
   "metadata": {},
   "outputs": [],
   "source": [
    "# import leidenalg as la\n",
    "# communities = la.find_partition(G_ig, la.ModularityVertexPartition)\n",
    "communities = G_ig.community_infomap()"
   ]
  },
  {
   "cell_type": "code",
   "execution_count": null,
   "metadata": {},
   "outputs": [],
   "source": [
    "G_ig.vs['community'] = communities.membership"
   ]
  },
  {
   "cell_type": "markdown",
   "metadata": {},
   "source": [
    "# Graph summarization"
   ]
  },
  {
   "cell_type": "code",
   "execution_count": null,
   "metadata": {},
   "outputs": [],
   "source": [
    "# do graph aggregation based on communities"
   ]
  },
  {
   "cell_type": "markdown",
   "metadata": {},
   "source": [
    "# Network visualization"
   ]
  },
  {
   "cell_type": "code",
   "execution_count": null,
   "metadata": {},
   "outputs": [],
   "source": [
    "layout = G_ig.layout(\"fr\")\n",
    "ig.plot(G_ig, layout=layout, vertex_size=1, vertex_label=None, edge_arrow_size=0.1, edge_width=0.1)"
   ]
  },
  {
   "cell_type": "markdown",
   "metadata": {},
   "source": [
    "# Connected component analysis"
   ]
  },
  {
   "cell_type": "code",
   "execution_count": null,
   "metadata": {},
   "outputs": [],
   "source": [
    "wcc_components = np.array(list(nx.weakly_connected_components(G)))\n",
    "wcc_component_sizes = np.array([len(c) for c in wcc_components])\n",
    "wcc_idx = np.argsort(wcc_component_sizes)[::-1]\n",
    "wcc_components = wcc_components[wcc_idx]\n",
    "wcc_component_sizes = wcc_component_sizes[wcc_idx]\n",
    "\n",
    "scc_components = np.array(list(nx.strongly_connected_components(G)))\n",
    "scc_component_sizes = np.array([len(c) for c in scc_components])\n",
    "scc_idx = np.argsort(scc_component_sizes)[::-1]\n",
    "scc_components = scc_components[scc_idx]\n",
    "scc_component_sizes = scc_component_sizes[scc_idx]"
   ]
  },
  {
   "cell_type": "code",
   "execution_count": null,
   "metadata": {},
   "outputs": [],
   "source": [
    "print('largest weakly connected component size', wcc_component_sizes[0])\n",
    "print('second largest weakly connected component size', wcc_component_sizes[1])\n",
    "print('largest strongly connected component size', scc_component_sizes[0])\n",
    "print('second largest strongly connected component size', scc_component_sizes[1])\n",
    "\n",
    "G_wcc = G.subgraph(wcc_components[0])\n",
    "G_scc = G.subgraph(scc_components[0])"
   ]
  }
 ],
 "metadata": {
  "kernelspec": {
   "display_name": "Python 3 (ipykernel)",
   "language": "python",
   "name": "python3"
  },
  "language_info": {
   "codemirror_mode": {
    "name": "ipython",
    "version": 3
   },
   "file_extension": ".py",
   "mimetype": "text/x-python",
   "name": "python",
   "nbconvert_exporter": "python",
   "pygments_lexer": "ipython3",
   "version": "3.9.7"
  }
 },
 "nbformat": 4,
 "nbformat_minor": 2
}
